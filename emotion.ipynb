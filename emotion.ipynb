{
  "nbformat": 4,
  "nbformat_minor": 0,
  "metadata": {
    "kernelspec": {
      "display_name": "Python 3",
      "language": "python",
      "name": "python3"
    },
    "language_info": {
      "codemirror_mode": {
        "name": "ipython",
        "version": 3
      },
      "file_extension": ".py",
      "mimetype": "text/x-python",
      "name": "python",
      "nbconvert_exporter": "python",
      "pygments_lexer": "ipython3",
      "version": "3.8.5"
    },
    "colab": {
      "name": "Untitled.ipynb",
      "provenance": [],
      "collapsed_sections": []
    },
    "accelerator": "GPU"
  },
  "cells": [
    {
      "cell_type": "code",
      "metadata": {
        "id": "iWvvPql--OuU"
      },
      "source": [
        "!kill -9 -1"
      ],
      "execution_count": null,
      "outputs": []
    },
    {
      "cell_type": "code",
      "metadata": {
        "id": "NW25r11e5LPA"
      },
      "source": [
        "%matplotlib inline\n",
        "import numpy as np\n",
        "import pandas as pd\n",
        "import os\n",
        "import sys\n",
        "import cv2\n",
        "from PIL import Image\n",
        "from matplotlib import pyplot as plt\n",
        "from keras.models import Sequential\n",
        "from keras.layers import Dense,Flatten,MaxPooling2D,Activation,Conv2D\n",
        "from keras.layers import Dropout,BatchNormalization\n",
        "from keras.regularizers import l2\n",
        "from keras.optimizers import Adam\n",
        "from keras.losses import categorical_crossentropy\n",
        "import tensorflow as tf\n",
        "from keras.models import load_model\n",
        "import dlib\n",
        "from keras.utils import np_utils"
      ],
      "execution_count": 16,
      "outputs": []
    },
    {
      "cell_type": "code",
      "metadata": {
        "colab": {
          "base_uri": "https://localhost:8080/",
          "height": 39
        },
        "id": "rRtLkJX79-kK",
        "outputId": "20849baa-c250-40f7-afe0-05d3ba00c181"
      },
      "source": [
        "tf.test.gpu_device_name()"
      ],
      "execution_count": 2,
      "outputs": [
        {
          "output_type": "execute_result",
          "data": {
            "application/vnd.google.colaboratory.intrinsic+json": {
              "type": "string"
            },
            "text/plain": [
              "'/device:GPU:0'"
            ]
          },
          "metadata": {
            "tags": []
          },
          "execution_count": 2
        }
      ]
    },
    {
      "cell_type": "code",
      "metadata": {
        "id": "BejkCIov65ym",
        "colab": {
          "base_uri": "https://localhost:8080/"
        },
        "outputId": "8c76b475-d92a-4584-a89a-98de4d570fd8"
      },
      "source": [
        "from google.colab import drive\n",
        "drive.mount(\"/content/gdrive\")\n"
      ],
      "execution_count": 3,
      "outputs": [
        {
          "output_type": "stream",
          "text": [
            "Mounted at /content/gdrive\n"
          ],
          "name": "stdout"
        }
      ]
    },
    {
      "cell_type": "code",
      "metadata": {
        "id": "iucYz1kT7P6i"
      },
      "source": [
        "os.chdir('/content/gdrive/MyDrive/')"
      ],
      "execution_count": 4,
      "outputs": []
    },
    {
      "cell_type": "code",
      "metadata": {
        "id": "-v6bY-HP5LPa"
      },
      "source": [
        "data = pd.read_csv('fer2013.csv')"
      ],
      "execution_count": 5,
      "outputs": []
    },
    {
      "cell_type": "code",
      "metadata": {
        "colab": {
          "base_uri": "https://localhost:8080/",
          "height": 236
        },
        "id": "Fi3HLHbE5LPd",
        "outputId": "2356508e-f30f-43ff-feb4-201ff15aef19"
      },
      "source": [
        "data.shape\n",
        "\n",
        "data.head()"
      ],
      "execution_count": null,
      "outputs": [
        {
          "output_type": "execute_result",
          "data": {
            "text/html": [
              "<div>\n",
              "<style scoped>\n",
              "    .dataframe tbody tr th:only-of-type {\n",
              "        vertical-align: middle;\n",
              "    }\n",
              "\n",
              "    .dataframe tbody tr th {\n",
              "        vertical-align: top;\n",
              "    }\n",
              "\n",
              "    .dataframe thead th {\n",
              "        text-align: right;\n",
              "    }\n",
              "</style>\n",
              "<table border=\"1\" class=\"dataframe\">\n",
              "  <thead>\n",
              "    <tr style=\"text-align: right;\">\n",
              "      <th></th>\n",
              "      <th>emotion</th>\n",
              "      <th>pixels</th>\n",
              "      <th>Usage</th>\n",
              "    </tr>\n",
              "  </thead>\n",
              "  <tbody>\n",
              "    <tr>\n",
              "      <th>0</th>\n",
              "      <td>0</td>\n",
              "      <td>70 80 82 72 58 58 60 63 54 58 60 48 89 115 121...</td>\n",
              "      <td>Training</td>\n",
              "    </tr>\n",
              "    <tr>\n",
              "      <th>1</th>\n",
              "      <td>0</td>\n",
              "      <td>151 150 147 155 148 133 111 140 170 174 182 15...</td>\n",
              "      <td>Training</td>\n",
              "    </tr>\n",
              "    <tr>\n",
              "      <th>2</th>\n",
              "      <td>2</td>\n",
              "      <td>231 212 156 164 174 138 161 173 182 200 106 38...</td>\n",
              "      <td>Training</td>\n",
              "    </tr>\n",
              "    <tr>\n",
              "      <th>3</th>\n",
              "      <td>4</td>\n",
              "      <td>24 32 36 30 32 23 19 20 30 41 21 22 32 34 21 1...</td>\n",
              "      <td>Training</td>\n",
              "    </tr>\n",
              "    <tr>\n",
              "      <th>4</th>\n",
              "      <td>6</td>\n",
              "      <td>4 0 0 0 0 0 0 0 0 0 0 0 3 15 23 28 48 50 58 84...</td>\n",
              "      <td>Training</td>\n",
              "    </tr>\n",
              "  </tbody>\n",
              "</table>\n",
              "</div>"
            ],
            "text/plain": [
              "   emotion                                             pixels     Usage\n",
              "0        0  70 80 82 72 58 58 60 63 54 58 60 48 89 115 121...  Training\n",
              "1        0  151 150 147 155 148 133 111 140 170 174 182 15...  Training\n",
              "2        2  231 212 156 164 174 138 161 173 182 200 106 38...  Training\n",
              "3        4  24 32 36 30 32 23 19 20 30 41 21 22 32 34 21 1...  Training\n",
              "4        6  4 0 0 0 0 0 0 0 0 0 0 0 3 15 23 28 48 50 58 84...  Training"
            ]
          },
          "metadata": {
            "tags": []
          },
          "execution_count": 9
        }
      ]
    },
    {
      "cell_type": "code",
      "metadata": {
        "scrolled": true,
        "colab": {
          "base_uri": "https://localhost:8080/",
          "height": 267
        },
        "id": "d2sJ0EsF5LPg",
        "outputId": "c7538426-dd82-4f3b-d0e9-bf05dc643c94"
      },
      "source": [
        "a=data.loc[2,\"pixels\"]\n",
        "\n",
        "a=[int(s) for s in a.split(' ')]\n",
        "\n",
        "array = np.array(a, dtype=np.uint8)\n",
        "\n",
        "array=array.reshape(48,48)\n",
        "\n",
        "plt.imshow(cv2.cvtColor(array, cv2.COLOR_BGR2RGB))\n",
        "plt.show()"
      ],
      "execution_count": null,
      "outputs": [
        {
          "output_type": "display_data",
          "data": {
            "image/png": "[encoded data removed]",
            "text/plain": [
              "<Figure size 432x288 with 1 Axes>"
            ]
          },
          "metadata": {
            "tags": [],
            "needs_background": "light"
          }
        }
      ]
    },
    {
      "cell_type": "code",
      "metadata": {
        "colab": {
          "base_uri": "https://localhost:8080/"
        },
        "id": "g-wN1Z8j5LP1",
        "outputId": "7c8ee8c5-d370-4200-f8a0-63d46de0213a"
      },
      "source": [
        "data.loc[:,\"emotion\"].unique()"
      ],
      "execution_count": null,
      "outputs": [
        {
          "output_type": "execute_result",
          "data": {
            "text/plain": [
              "array([0, 2, 4, 6, 3, 5, 1])"
            ]
          },
          "metadata": {
            "tags": []
          },
          "execution_count": 11
        }
      ]
    },
    {
      "cell_type": "code",
      "metadata": {
        "colab": {
          "base_uri": "https://localhost:8080/"
        },
        "id": "2na-zWpa5LP4",
        "outputId": "52239fad-9b03-4c01-aeb2-e2a4f0f6bfa4"
      },
      "source": [
        "data.groupby('Usage')[\"pixels\"].nunique()"
      ],
      "execution_count": null,
      "outputs": [
        {
          "output_type": "execute_result",
          "data": {
            "text/plain": [
              "Usage\n",
              "PrivateTest     3572\n",
              "PublicTest      3563\n",
              "Training       27473\n",
              "Name: pixels, dtype: int64"
            ]
          },
          "metadata": {
            "tags": []
          },
          "execution_count": 12
        }
      ]
    },
    {
      "cell_type": "code",
      "metadata": {
        "id": "dBIm3g3U5LP7"
      },
      "source": [
        "Xtrain,ytrain,Xtest,ytest=[],[],[],[]"
      ],
      "execution_count": 6,
      "outputs": []
    },
    {
      "cell_type": "code",
      "metadata": {
        "id": "OGiRcB-E5LP8"
      },
      "source": [
        "#Xtrain=data[data.loc[:,\"Usage\"]==\"Training\"].loc[:,\"pixels\"]\n",
        "#Xtrain=Xtrain.apply(lambda a:[int(s) for s in a.split(' ')])\n",
        "#taking forever to run"
      ],
      "execution_count": null,
      "outputs": []
    },
    {
      "cell_type": "code",
      "metadata": {
        "id": "uSXOPLgU5LP-"
      },
      "source": [
        "for i,rows in data.iterrows():\n",
        "    pixvals=rows[\"pixels\"].split()\n",
        "    if rows[\"Usage\"]==\"Training\":\n",
        "        Xtrain.append(np.array(pixvals,'float32'))\n",
        "        ytrain.append(rows['emotion'])\n",
        "    else:\n",
        "        Xtest.append(np.array(pixvals,'float32'))\n",
        "        ytest.append(rows['emotion'])"
      ],
      "execution_count": 7,
      "outputs": []
    },
    {
      "cell_type": "code",
      "metadata": {
        "id": "bnwlUR8-5LQF"
      },
      "source": [
        "Xtrain=np.array(Xtrain,'float32')\n",
        "Xtest=np.array(Xtest,'float32')\n",
        "ytrain=np.array(ytrain,'float32')\n",
        "ytest=np.array(ytest,'float32')"
      ],
      "execution_count": 8,
      "outputs": []
    },
    {
      "cell_type": "code",
      "metadata": {
        "id": "L9CsKKxM5LQG"
      },
      "source": [
        "x_mean=np.mean(Xtrain,axis=0)\n",
        "x_sd=np.std(Xtrain,axis=0)"
      ],
      "execution_count": 9,
      "outputs": []
    },
    {
      "cell_type": "code",
      "metadata": {
        "id": "T2U6Yn9d5LQH"
      },
      "source": [
        "Xtrain=(Xtrain-x_mean)/x_sd\n",
        "Xtest=(Xtest-x_mean)/x_sd"
      ],
      "execution_count": 10,
      "outputs": []
    },
    {
      "cell_type": "code",
      "metadata": {
        "id": "hha_Avo45LQH"
      },
      "source": [
        "height=width=48\n",
        "Xtrain=Xtrain.reshape(Xtrain.shape[0],width,height,1)\n",
        "Xtest=Xtest.reshape(Xtest.shape[0],width,height,1)"
      ],
      "execution_count": 11,
      "outputs": []
    },
    {
      "cell_type": "code",
      "metadata": {
        "id": "OUKuel4A5LQJ"
      },
      "source": [
        "#CNN\n",
        "batch_size=64\n",
        "epochs=50\n",
        "labels=7\n",
        "filters=64"
      ],
      "execution_count": 12,
      "outputs": []
    },
    {
      "cell_type": "code",
      "metadata": {
        "id": "jGuR06Pw5LQK"
      },
      "source": [
        "ytrain=np_utils.to_categorical(ytrain,num_classes=labels)\n",
        "ytest=np_utils.to_categorical(ytest,num_classes=labels)\n"
      ],
      "execution_count": 13,
      "outputs": []
    },
    {
      "cell_type": "code",
      "metadata": {
        "id": "MmZjs0ud5LQL"
      },
      "source": [
        "#Sequential\n",
        "model=Sequential()\n",
        "model.add(Conv2D(filters,(3,3),input_shape=(Xtrain.shape[1:]),activation='relu',kernel_regularizer=l2(0.0003)))\n",
        "model.add(BatchNormalization())\n",
        "model.add(Conv2D(filters,(3,3),activation='relu',kernel_regularizer=l2(0.0003)))\n",
        "model.add(BatchNormalization())\n",
        "model.add(MaxPooling2D(pool_size=(2,2),strides=(2,2)))\n",
        "model.add(Dropout(0.5))\n",
        "\n",
        "model.add(Conv2D(filters,(3,3),activation='relu',kernel_regularizer=l2(0.0003)))\n",
        "model.add(BatchNormalization())\n",
        "model.add(Conv2D(filters,(3,3),activation='relu',kernel_regularizer=l2(0.0003)))\n",
        "model.add(BatchNormalization())\n",
        "model.add(MaxPooling2D(pool_size=(2,2),strides=(2,2)))\n",
        "model.add(Dropout(0.5))\n",
        "\n",
        "model.add(Conv2D(2*filters,(3,3),activation='relu',kernel_regularizer=l2(0.0003)))\n",
        "model.add(BatchNormalization())\n",
        "model.add(Conv2D(2*filters,(3,3),activation='relu',kernel_regularizer=l2(0.0003)))\n",
        "model.add(BatchNormalization())\n",
        "model.add(MaxPooling2D(pool_size=(2,2),strides=(2,2)))\n",
        "model.add(Dropout(0.5))\n",
        "\n",
        "model.add(Flatten())\n",
        "model.add(Dense(16*filters,activation='relu'))\n",
        "model.add(Dropout(0.2))\n",
        "model.add(Dense(16*filters,activation='relu'))\n",
        "model.add(Dropout(0.2))\n",
        "model.add(Dense(labels,activation='softmax'))\n",
        "es = EarlyStopping(monitor='val_loss', mode='min', verbose=1,patience=6,restore_best_weights=True)\n",
        "\n",
        "\n",
        "model.compile(loss=categorical_crossentropy,optimizer=Adam(),metrics=['accuracy'])\n",
        "\n",
        "model.fit(Xtrain,ytrain,batch_size=batch_size,epochs=epochs,verbose=1,validation_data=(Xtest,ytest),shuffle=True,callbacks=[es])\n",
        "\n"
      ],
      "execution_count": null,
      "outputs": []
    },
    {
      "cell_type": "code",
      "metadata": {
        "id": "AcPoQTluWh4e"
      },
      "source": [
        "seqpred=model.predict(Xtest)"
      ],
      "execution_count": null,
      "outputs": []
    },
    {
      "cell_type": "code",
      "metadata": {
        "colab": {
          "base_uri": "https://localhost:8080/"
        },
        "id": "hubkc_-wkCgp",
        "outputId": "90eedfe8-a1ca-44b7-a074-a079f7e39baf"
      },
      "source": [
        "tf.math.confusion_matrix(np.argmax(ytest,1),np.argmax(seqpred,1))"
      ],
      "execution_count": null,
      "outputs": [
        {
          "output_type": "execute_result",
          "data": {
            "text/plain": [
              "<tf.Tensor: shape=(7, 7), dtype=int32, numpy=\n",
              "array([[ 517,    6,   48,   48,  179,   10,  150],\n",
              "       [  44,   34,   12,    3,   11,    3,    4],\n",
              "       [ 184,    2,  238,   56,  273,   97,  174],\n",
              "       [  74,    0,   25, 1452,   69,   37,  117],\n",
              "       [ 130,    1,   61,   61,  671,   18,  305],\n",
              "       [  45,    0,   79,   57,   15,  577,   58],\n",
              "       [  66,    2,   30,   68,  215,   16,  836]], dtype=int32)>"
            ]
          },
          "metadata": {
            "tags": []
          },
          "execution_count": 24
        }
      ]
    },
    {
      "cell_type": "code",
      "metadata": {
        "id": "JQYGGoxf5LQM"
      },
      "source": [
        "import tensorflow as tf\n",
        "from tensorflow import keras\n",
        "from tensorflow.keras import layers\n",
        "from keras.callbacks import EarlyStopping,ModelCheckpoint\n",
        "import string"
      ],
      "execution_count": 14,
      "outputs": []
    },
    {
      "cell_type": "code",
      "metadata": {
        "id": "7zlwpZFS5LQN"
      },
      "source": [
        "act=tf.nn.leaky_relu\n",
        "pool=(3,3)\n",
        "pad=\"valid\"\n",
        "pad2=\"same\""
      ],
      "execution_count": null,
      "outputs": []
    },
    {
      "cell_type": "code",
      "metadata": {
        "id": "shBo-_bU5LQO"
      },
      "source": [
        "img_inputs=keras.Input(shape=Xtrain.shape[1:])"
      ],
      "execution_count": null,
      "outputs": []
    },
    {
      "cell_type": "code",
      "metadata": {
        "id": "pvanemyY5LQO"
      },
      "source": [
        "def inception_layer(layer,f1,f2,f3,act,pool,pad):\n",
        "    conv1=layers.Conv2D(f1,1,padding=pad,activation=act)(layer)\n",
        "    conv2=layers.Conv2D(f2,3,padding=pad,activation=act)(layer)\n",
        "    conv3=layers.Conv2D(f3,5,padding=pad,activation=act)(layer)\n",
        "    max_pool=layers.MaxPooling2D(pool, strides=(1,1), padding=pad)(layer)\n",
        "    out=layers.concatenate([conv1,conv2,conv3,max_pool],axis=-1)\n",
        "    return out"
      ],
      "execution_count": null,
      "outputs": []
    },
    {
      "cell_type": "code",
      "metadata": {
        "id": "Sx2JOOzj5LQP"
      },
      "source": [
        "def residual_layer(layer,f,act,pad):\n",
        "    conv1=layers.Conv2D(f,3,padding=pad,activation=act)(layer)\n",
        "    conv2=layers.Conv2D(f,3,padding=pad,activation=act)(conv1)\n",
        "    out=layers.add([conv2,layer])\n",
        "    out=layers.Activation(act)(out)\n",
        "    return out\n",
        "    "
      ],
      "execution_count": null,
      "outputs": []
    },
    {
      "cell_type": "code",
      "metadata": {
        "id": "09EcqEdi5LQQ"
      },
      "source": [
        "#functional-api_model\n",
        "x=inception_layer(img_inputs,64,128,32,act,pool,pad2)\n",
        "x=layers.Conv2D(filters,pool,activation=act,kernel_regularizer=l2(0.0003))(x)\n",
        "x=layers.BatchNormalization()(x)\n",
        "x=layers.MaxPooling2D(pool_size=pool,strides=(2,2))(x)\n",
        "x=layers.Dropout(0.5)(x)\n",
        "x=residual_layer(x,filters,act,pad2)\n",
        "x=layers.Conv2D(filters*2,pool,activation=act,kernel_regularizer=l2(0.0003))(x)\n",
        "x=layers.BatchNormalization()(x)\n",
        "x=layers.MaxPooling2D(pool_size=pool,strides=(2,2))(x)\n",
        "x=layers.Dropout(0.5)(x)\n",
        "x=residual_layer(x,filters*2,act,pad2)\n",
        "x=layers.Flatten()(x)\n",
        "x=layers.Dense(16*filters,activation=act)(x)\n",
        "x=layers.Dropout(0.2)(x)\n",
        "x=layers.Dense(16*filters,activation=act)(x)\n",
        "x=layers.Dropout(0.2)(x)\n",
        "output=layers.Dense(labels,activation='softmax')(x)\n",
        "\n",
        "\n"
      ],
      "execution_count": null,
      "outputs": []
    },
    {
      "cell_type": "code",
      "metadata": {
        "id": "WPOmkoB1jHxW"
      },
      "source": [
        "es = EarlyStopping(monitor='val_accuracy', mode='max', verbose=1,patience=8,restore_best_weights=True)\n",
        "mc = ModelCheckpoint(\"just.h5\", monitor='val_accuracy', mode='max', verbose=1, save_best_only=True)\n",
        "#model.summary()\n",
        "model=keras.Model(img_inputs,output,name=\"f_model\")\n",
        "model.save_weights(\"weights.h5\")"
      ],
      "execution_count": null,
      "outputs": []
    },
    {
      "cell_type": "code",
      "metadata": {
        "id": "H5IdAuUd5LQQ"
      },
      "source": [
        "d={}\n",
        "for i in range(10):\n",
        "  #d[\"model{0}\".format(i)]=keras.Model(img_inputs,output,name=\"f_model\")\n",
        "  es = EarlyStopping(monitor='val_accuracy', mode='max', verbose=1,patience=8,restore_best_weights=True)\n",
        "  name=\"model\"+str(i)+'.h5'\n",
        "  mc = ModelCheckpoint(name, monitor='val_accuracy', mode='max', verbose=1, save_best_only=True)\n",
        "#f_model.summary()\n",
        "  globals()[\"model\"+str(i)]=keras.Model(img_inputs,output,name=\"f_model\")\n",
        "  globals()[\"model\"+str(i)].compile(loss=categorical_crossentropy,optimizer=Adam(),metrics=['accuracy'])\n",
        "\n",
        "  globals()[\"model\"+str(i)].load_weights(\"weights.h5\")\n",
        "  globals()[\"model\"+str(i)].fit(Xtrain,ytrain,batch_size=batch_size,epochs=21,verbose=1,validation_data=(Xtest,ytest),shuffle=True,callbacks=[es,mc])"
      ],
      "execution_count": null,
      "outputs": []
    },
    {
      "cell_type": "code",
      "metadata": {
        "colab": {
          "base_uri": "https://localhost:8080/"
        },
        "id": "DLIQ2QwwfBu0",
        "outputId": "3901415b-bbba-43ea-aaba-ff67a9de7bcb"
      },
      "source": [
        "for i in range(10):\n",
        "  name=\"model\"+str(i)+\".h5\"\n",
        "  avef_model=load_model(name,custom_objects={'leaky_relu':tf.nn.leaky_relu})\n",
        "  pred=avef_model.predict(Xtest)\n",
        "  print(name,'\\n')\n",
        "  print(tf.math.confusion_matrix(np.argmax(ytest,1),np.argmax(pred,1)))\n",
        "  #0,1,5,6,7,9,4\n"
      ],
      "execution_count": null,
      "outputs": [
        {
          "output_type": "stream",
          "text": [
            "model2.h5 \n",
            "\n",
            "tf.Tensor(\n",
            "[[ 407    3  155   56  155   17  165]\n",
            " [  29   41    7    5   19    2    8]\n",
            " [  82    2  413   56  200  102  169]\n",
            " [  22    0   64 1459   74   40  115]\n",
            " [  86    0  158   86  597   17  303]\n",
            " [  16    0   78   40   18  615   64]\n",
            " [  45    0   52  108  175   21  832]], shape=(7, 7), dtype=int32)\n",
            "model3.h5 \n",
            "\n",
            "tf.Tensor(\n",
            "[[ 366    8  120   36  186   40  202]\n",
            " [  16   46   17    4   16    3    9]\n",
            " [  50    5  373   34  237  165  160]\n",
            " [  37    0   35 1368   92   58  184]\n",
            " [  58    3  124   40  658   34  330]\n",
            " [  20    0   31   41   33  654   52]\n",
            " [  27    1   66   38  201   51  849]], shape=(7, 7), dtype=int32)\n",
            "model8.h5 \n",
            "\n",
            "tf.Tensor(\n",
            "[[ 500   12   62  101  107   27  149]\n",
            " [  33   57    4    7    4    1    5]\n",
            " [ 148   12  346   99  168   97  154]\n",
            " [  39    1   25 1527   43   37  102]\n",
            " [ 185    7  139  133  502    9  272]\n",
            " [  35    2   63   55   18  617   41]\n",
            " [  99    5   57  132  135   12  793]], shape=(7, 7), dtype=int32)\n"
          ],
          "name": "stdout"
        }
      ]
    },
    {
      "cell_type": "code",
      "metadata": {
        "id": "xz4lJatE5LQS"
      },
      "source": [
        "#transfer learning performed poorly\n",
        "from tensorflow.keras.applications.densenet import DenseNet201\n",
        "height=width=48\n",
        "Xtrain=Xtrain.reshape(Xtrain.shape[0],width,height)\n",
        "Xtest=Xtest.reshape(Xtest.shape[0],width,height)\n",
        "xtrain_rgb = np.repeat(Xtrain[..., np.newaxis], 3, -1)\n",
        "xtest_rgb=np.repeat(Xtest[..., np.newaxis], 3, -1)\n",
        "pretrained_model=DenseNet201(input_shape=xtrain_rgb.shape[1:],include_top=False,weights='imagenet',pooling='avg',classes=7)\n",
        "len(pretrained_model.layers)\n",
        "nontr=pretrained_model.layers[:-13]\n",
        "trbl=pretrained_model.layers[-13:]\n",
        "len(trbl)\n",
        "for layer in nontr:\n",
        "    layer.trainable=False\n",
        "for layer in trbl:\n",
        "    layer.trainable=True\n",
        "x=layers.Flatten()(pretrained_model.output)\n",
        "x=layers.Dense(16*filters,activation=act,)(x)\n",
        "x=layers.Dropout(0.2)(x)\n",
        "x=layers.Dense(16*filters,activation=act)(x)\n",
        "x=layers.Dropout(0.2)(x)\n",
        "outputtr=layers.Dense(labels,activation='softmax')(x)\n",
        "trl_model=keras.Model(pretrained_model.input,outputtr,name=\"trl_model\")\n",
        "trl_model.summary()\n",
        "trl_model.compile(loss=categorical_crossentropy,optimizer=Adam(),metrics=['accuracy'])\n",
        "\n",
        "trl_model.fit(xtrain_rgb,ytrain,batch_size=batch_size,epochs=30,verbose=1,validation_data=(xtest_rgb,ytest),shuffle=True)"
      ],
      "execution_count": null,
      "outputs": []
    },
    {
      "cell_type": "code",
      "metadata": {
        "id": "rqfW66bh5LQd"
      },
      "source": [
        "#So, out of the three, the functional api does best when you compare the confusion matrices. \n",
        "\n",
        "fin_model=load_model('model3.h5',custom_objects={'leaky_relu':tf.nn.leaky_relu})"
      ],
      "execution_count": 15,
      "outputs": []
    },
    {
      "cell_type": "code",
      "metadata": {
        "id": "uYWXC5jl5LQe"
      },
      "source": [
        ""
      ],
      "execution_count": null,
      "outputs": []
    },
    {
      "cell_type": "code",
      "metadata": {
        "id": "Q7qwh1VaPWaP"
      },
      "source": [
        ""
      ],
      "execution_count": null,
      "outputs": []
    },
    {
      "cell_type": "code",
      "metadata": {
        "id": "dPUgL7NgazQU"
      },
      "source": [
        ""
      ],
      "execution_count": null,
      "outputs": []
    }
  ]
}